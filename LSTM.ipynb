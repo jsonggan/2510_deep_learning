{
  "cells": [
    {
      "cell_type": "markdown",
      "metadata": {},
      "source": [
        "# LSTM Model  \n",
        "**Predicting Droughts Using Weather & Soil Data in the US**\n",
        "\n"
      ]
    },
    {
      "cell_type": "markdown",
      "metadata": {},
      "source": [
        "This notebook is designed to run on Google Colab. It requires at least 25 GB of system RAM and 1.5 GB of GPU RAM, so a T4 GPU with high-RAM runtime is recommended.\n",
        "\n",
        "You do not need to manually install any datasets. The datasets are downloaded through kaggle when you run the cell code.\n",
        "\n",
        "If you want to perform full training, simply run all the cells in this notebook.\n",
        "\n",
        "The instruction for loading the model parameters can be found at the last cell of this notebook."
      ]
    },
    {
      "cell_type": "markdown",
      "metadata": {},
      "source": [
        "# Import"
      ]
    },
    {
      "cell_type": "code",
      "execution_count": null,
      "metadata": {
        "id": "rAG9ndG_LhLS"
      },
      "outputs": [],
      "source": [
        "import os\n",
        "import pandas as pd\n",
        "import numpy as np\n",
        "import torch\n",
        "import torch.nn as nn\n",
        "from torch.utils.data import Dataset, DataLoader\n",
        "import matplotlib.pyplot as plt\n",
        "from tqdm import tqdm\n",
        "import kagglehub\n",
        "from torch.optim.lr_scheduler import ReduceLROnPlateau"
      ]
    },
    {
      "cell_type": "markdown",
      "metadata": {
        "id": "xxhwj1osL34b"
      },
      "source": [
        "# Data preprocessing"
      ]
    },
    {
      "cell_type": "code",
      "execution_count": null,
      "metadata": {
        "colab": {
          "base_uri": "https://localhost:8080/"
        },
        "id": "4GjtWaTFLmts",
        "outputId": "1ea68404-6e76-4618-8dba-e4d168a3652a"
      },
      "outputs": [
        {
          "name": "stdout",
          "output_type": "stream",
          "text": [
            "Downloading from https://www.kaggle.com/api/v1/datasets/download/cdminix/us-drought-meteorological-data?dataset_version_number=5...\n"
          ]
        },
        {
          "name": "stderr",
          "output_type": "stream",
          "text": [
            "100%|██████████| 901M/901M [00:06<00:00, 148MB/s]"
          ]
        },
        {
          "name": "stdout",
          "output_type": "stream",
          "text": [
            "Extracting files...\n"
          ]
        },
        {
          "name": "stderr",
          "output_type": "stream",
          "text": [
            "\n"
          ]
        }
      ],
      "source": [
        "path = kagglehub.dataset_download(\"cdminix/us-drought-meteorological-data\")\n",
        "\n",
        "# Load data\n",
        "soil_df = pd.read_csv(os.path.join(path, \"soil_data.csv\"))\n",
        "train_df = pd.read_csv(os.path.join(path, \"train_timeseries/train_timeseries.csv\"))\n",
        "val_df = pd.read_csv(os.path.join(path, \"validation_timeseries/validation_timeseries.csv\"))\n",
        "test_df = pd.read_csv(os.path.join(path, \"test_timeseries/test_timeseries.csv\"))\n",
        "\n",
        "# Define feature lists\n",
        "weather_features = ['PRECTOT', 'PS', 'QV2M', 'T2M', 'T2MDEW', 'T2MWET', 'T2M_MAX', 'T2M_MIN',\n",
        "                    'T2M_RANGE', 'TS', 'WS10M', 'WS10M_MAX', 'WS10M_MIN', 'WS10M_RANGE',\n",
        "                    'WS50M', 'WS50M_MAX', 'WS50M_MIN', 'WS50M_RANGE']\n",
        "soil_features = ['lat', 'lon', 'elevation', 'slope1', 'slope2', 'slope3', 'slope4', 'slope5',\n",
        "                 'slope6', 'slope7', 'slope8', 'aspectN', 'aspectE', 'aspectS', 'aspectW',\n",
        "                 'aspectUnknown', 'WAT_LAND', 'NVG_LAND', 'URB_LAND', 'GRS_LAND', 'FOR_LAND',\n",
        "                 'CULTRF_LAND', 'CULTIR_LAND', 'CULT_LAND', 'SQ1', 'SQ2', 'SQ3', 'SQ4', 'SQ5',\n",
        "                 'SQ6', 'SQ7']"
      ]
    },
    {
      "cell_type": "code",
      "execution_count": null,
      "metadata": {
        "id": "ocjDDoKZLooI"
      },
      "outputs": [],
      "source": [
        "# Merge soil data and add seasonal features\n",
        "for df in [train_df, val_df, test_df]:\n",
        "    df['date'] = pd.to_datetime(df['date'])\n",
        "    df.sort_values(['fips', 'date'], inplace=True)\n",
        "    day_of_year = df['date'].dt.dayofyear\n",
        "    df['season_sin'] = np.sin(2 * np.pi * (day_of_year - 1) / 365)\n",
        "    df['season_cos'] = np.cos(2 * np.pi * (day_of_year - 1) / 365)\n",
        "train_df = train_df.merge(soil_df, on='fips', how='left')\n",
        "val_df = val_df.merge(soil_df, on='fips', how='left')\n",
        "test_df = test_df.merge(soil_df, on='fips', how='left')"
      ]
    },
    {
      "cell_type": "code",
      "execution_count": null,
      "metadata": {
        "id": "nUCId9ydLuWQ"
      },
      "outputs": [],
      "source": [
        "#Normalization with feature scaling\n",
        "train_features = train_df[weather_features + soil_features].values\n",
        "feature_mean = np.nanmean(train_features, axis=0)\n",
        "feature_std = np.nanstd(train_features, axis=0)\n",
        "feature_std = np.where(feature_std == 0, 1.0, feature_std)\n",
        "for df in [train_df, val_df, test_df]:\n",
        "    df[weather_features + soil_features] = (\n",
        "        df[weather_features + soil_features].values - feature_mean\n",
        "    ) / feature_std\n",
        "\n",
        "dynamic_features = weather_features + ['season_sin', 'season_cos']\n",
        "static_features = soil_features\n",
        "target = 'score'"
      ]
    },
    {
      "cell_type": "code",
      "execution_count": null,
      "metadata": {
        "id": "NB5cJzF7Lu3X"
      },
      "outputs": [],
      "source": [
        "#to prepare the input sequence to the model\n",
        "#custom pytorch dataset for time series drought prediction\n",
        "class DroughtDataset(Dataset):\n",
        "    def __init__(self, df, dynamic_features, static_features, target, seq_length=30):\n",
        "        #Store feature and target column names, and sequence length\n",
        "        self.dynamic_features = dynamic_features\n",
        "        self.static_features = static_features\n",
        "        self.target = target\n",
        "        self.seq_length = seq_length\n",
        "        self.data = {}      #Dictionary to store processed data for each region (fips)\n",
        "        self.indices = []   #List of (fips, start_index) for generating sequences\n",
        "        df = df.sort_values(['fips', 'date']).copy()\n",
        "        for fips, fips_df in df.groupby('fips'):\n",
        "            #Extract dynamic (time-varying) features as a NumPy array\n",
        "            X_dynamic = fips_df[dynamic_features].values.astype(np.float32)\n",
        "            #Extract static (constant per region) features from the first row\n",
        "            X_static = fips_df[static_features].iloc[0].values.astype(np.float32)\n",
        "            #Extract the target values\n",
        "            y = fips_df[target].values.astype(np.float32)\n",
        "            self.data[fips] = {'X_dynamic': X_dynamic, 'X_static': X_static, 'y': y}\n",
        "            #Create indices for valid input-output sequences\n",
        "            for i in range(len(fips_df) - seq_length):\n",
        "                #Only use samples where the target value after the sequence is not NaN\n",
        "                if not np.isnan(y[i + seq_length]):\n",
        "                    self.indices.append((fips, i))\n",
        "\n",
        "    def __len__(self):\n",
        "        return len(self.indices)\n",
        "\n",
        "    def __getitem__(self, idx):\n",
        "        fips, start_idx = self.indices[idx]\n",
        "        X_dynamic = self.data[fips]['X_dynamic'][start_idx:start_idx + self.seq_length]\n",
        "        X_static = self.data[fips]['X_static']\n",
        "        y = self.data[fips]['y'][start_idx + self.seq_length]\n",
        "        return (torch.from_numpy(X_dynamic), torch.from_numpy(X_static), torch.tensor(y, dtype=torch.float32))"
      ]
    },
    {
      "cell_type": "markdown",
      "metadata": {
        "id": "mWz9jqLFL1Vp"
      },
      "source": [
        "# Model LSTM"
      ]
    },
    {
      "cell_type": "code",
      "execution_count": null,
      "metadata": {
        "id": "_3RPJSorNFt8"
      },
      "outputs": [],
      "source": [
        "class DroughtLSTMHybrid(nn.Module):\n",
        "    def __init__(self, dynamic_input_size, static_input_size, hidden_size, num_layers, output_size=1, dropout=0.2):\n",
        "        super(DroughtLSTMHybrid, self).__init__()\n",
        "        self.lstm = nn.LSTM(dynamic_input_size, hidden_size, num_layers, batch_first=True, dropout=dropout if num_layers > 1 else 0)\n",
        "        #Linear layer to process static features \n",
        "        self.fc_static = nn.Linear(static_input_size, hidden_size)\n",
        "        #Final linear layer to map the combined features to the output\n",
        "        self.fc_final = nn.Linear(hidden_size * 2, output_size)\n",
        "        #Activation and dropout for non-linearity and regularization\n",
        "        self.relu = nn.ReLU()\n",
        "        self.dropout = nn.Dropout(dropout)\n",
        "\n",
        "    def forward(self, x_dynamic, x_static):\n",
        "        #Pass dynamic features through LSTM and take output from the last time step\n",
        "        lstm_out, _ = self.lstm(x_dynamic)\n",
        "        lstm_out = lstm_out[:, -1, :]        #shape: (batch_size, hidden_size)\n",
        "        #Pass static features through a fully connected layer with ReLU\n",
        "        static_out = self.relu(self.fc_static(x_static))         #shape: (batch_size, hidden_size)\n",
        "        #Concatenate LSTM output and static outputs\n",
        "        combined = torch.cat((lstm_out, static_out), dim=1)\n",
        "        #Apply dropout before final prediction\n",
        "        combined = self.dropout(combined)\n",
        "        #Final prediction layer\n",
        "        out = self.fc_final(combined)       #shape: (batch_size,)\n",
        "        return out.squeeze(-1)"
      ]
    },
    {
      "cell_type": "markdown",
      "metadata": {
        "id": "5OvIR94XNNAL"
      },
      "source": [
        "# Train function"
      ]
    },
    {
      "cell_type": "code",
      "execution_count": null,
      "metadata": {
        "id": "QoxBLpyxNJnR"
      },
      "outputs": [],
      "source": [
        "def train_model(model, train_loader, val_loader, criterion, optimizer, num_epochs, save_path, device, patience=3, scheduler=None):\n",
        "    train_losses, val_losses, val_maes = [], [], []\n",
        "    best_val_loss = float('inf')\n",
        "    patience_counter = 0\n",
        "\n",
        "    for epoch in range(num_epochs):\n",
        "        #Training loop\n",
        "        model.train()\n",
        "        train_loss, train_mae, train_samples = 0.0, 0.0, 0\n",
        "        train_bar = tqdm(train_loader, desc=f\"Epoch {epoch+1}/{num_epochs} [Train]\")\n",
        "        for X_dynamic, X_static, y_batch in train_bar:\n",
        "            X_dynamic, X_static, y_batch = X_dynamic.to(device), X_static.to(device), y_batch.to(device)\n",
        "            optimizer.zero_grad()\n",
        "            outputs = model(X_dynamic, X_static)\n",
        "            loss = criterion(outputs, y_batch)\n",
        "            loss.backward()\n",
        "            optimizer.step()\n",
        "            train_loss += loss.item() * X_dynamic.size(0)\n",
        "            mae = torch.mean(torch.abs(outputs - y_batch))\n",
        "            train_mae += mae.item() * X_dynamic.size(0)\n",
        "            train_samples += X_dynamic.size(0)\n",
        "            train_bar.set_postfix({\"Loss\": loss.item(), \"MAE\": mae.item()})\n",
        "\n",
        "        train_loss /= train_samples\n",
        "        train_mae /= train_samples\n",
        "        train_losses.append(train_loss)\n",
        "\n",
        "        #Validation loop\n",
        "        model.eval()\n",
        "        val_loss, val_mae, val_samples = 0.0, 0.0, 0\n",
        "        val_bar = tqdm(val_loader, desc=f\"Epoch {epoch+1}/{num_epochs} [Val]\")\n",
        "        with torch.no_grad():\n",
        "            for X_dynamic, X_static, y_batch in val_bar:\n",
        "                X_dynamic, X_static, y_batch = X_dynamic.to(device), X_static.to(device), y_batch.to(device)\n",
        "                outputs = model(X_dynamic, X_static)\n",
        "                loss = criterion(outputs, y_batch)\n",
        "                val_loss += loss.item() * X_dynamic.size(0)\n",
        "                mae = torch.mean(torch.abs(outputs - y_batch))\n",
        "                val_mae += mae.item() * X_dynamic.size(0)\n",
        "                val_samples += X_dynamic.size(0)\n",
        "                val_bar.set_postfix({\"Loss\": loss.item(), \"MAE\": mae.item()})\n",
        "\n",
        "        val_loss /= val_samples\n",
        "        val_mae /= val_samples\n",
        "        val_losses.append(val_loss)\n",
        "        val_maes.append(val_mae)\n",
        "\n",
        "        print(f\"Epoch {epoch+1}/{num_epochs}, \"\n",
        "              f\"Train Loss: {train_loss:.4f}, Train MAE: {train_mae:.4f}, \"\n",
        "              f\"Val Loss: {val_loss:.4f}, Val MAE: {val_mae:.4f}\")\n",
        "\n",
        "        #Checkpointing and Early Stopping\n",
        "        checkpoint = {\n",
        "            'epoch': epoch,\n",
        "            'model_state_dict': model.state_dict(),\n",
        "            'optimizer_state_dict': optimizer.state_dict(),\n",
        "            'train_loss': train_loss,\n",
        "            'val_loss': val_loss\n",
        "        }\n",
        "        torch.save(checkpoint, f\"{save_path}_epoch{epoch+1}.pt\")\n",
        "        print(f\"Checkpoint saved at {save_path}_epoch{epoch+1}.pt\")\n",
        "\n",
        "        if val_loss < best_val_loss:\n",
        "            best_val_loss = val_loss\n",
        "            torch.save(checkpoint, save_path)\n",
        "            print(f\"Best model updated at {save_path}\")\n",
        "            patience_counter = 0\n",
        "        else:\n",
        "            patience_counter += 1\n",
        "            if patience_counter >= patience:\n",
        "                print(f\"Early stopping triggered after {epoch+1} epochs\")\n",
        "                break\n",
        "\n",
        "        #Step the scheduler with the validation loss\n",
        "        if scheduler:\n",
        "            scheduler.step(val_loss)\n",
        "\n",
        "    #Plot losses and MAE\n",
        "    plt.figure(figsize=(10, 5))\n",
        "    plt.plot(range(1, len(train_losses)+1), train_losses, label='Train Loss')\n",
        "    plt.plot(range(1, len(val_losses)+1), val_losses, label='Val Loss')\n",
        "    plt.xlabel('Epoch')\n",
        "    plt.ylabel('Loss (MSE)')\n",
        "    plt.title('Training and Validation Loss')\n",
        "    plt.legend()\n",
        "    plt.grid(True)\n",
        "    plt.show()\n",
        "\n",
        "    plt.figure(figsize=(10, 5))\n",
        "    plt.plot(range(1, len(val_maes)+1), val_maes, label='Val MAE')\n",
        "    plt.xlabel('Epoch')\n",
        "    plt.ylabel('MAE')\n",
        "    plt.title('Validation MAE')\n",
        "    plt.legend()\n",
        "    plt.grid(True)\n",
        "    plt.show()\n",
        "\n",
        "    return model, train_losses, val_losses, val_maes"
      ]
    },
    {
      "cell_type": "code",
      "execution_count": null,
      "metadata": {
        "id": "-njncKM1NSSS"
      },
      "outputs": [],
      "source": [
        "#Hyperparameters\n",
        "seq_length = 180\n",
        "batch_size = 2048\n",
        "num_epochs = 10\n",
        "save_path = 'best_model7.pt'\n",
        "patience = 3  # For early stopping\n",
        "dropout = 0.2"
      ]
    },
    {
      "cell_type": "code",
      "execution_count": null,
      "metadata": {
        "id": "ze12hWXXNU3C"
      },
      "outputs": [],
      "source": [
        "train_dataset = DroughtDataset(train_df, dynamic_features, static_features, target, seq_length)\n",
        "val_dataset = DroughtDataset(val_df, dynamic_features, static_features, target, seq_length)\n",
        "test_dataset = DroughtDataset(test_df, dynamic_features, static_features, target, seq_length)\n",
        "\n",
        "train_loader = DataLoader(train_dataset, batch_size=batch_size, shuffle=True, num_workers=2)\n",
        "val_loader = DataLoader(val_dataset, batch_size=batch_size, shuffle=False, num_workers=2)\n",
        "test_loader = DataLoader(test_dataset, batch_size=batch_size, shuffle=False, num_workers=2)"
      ]
    },
    {
      "cell_type": "code",
      "execution_count": null,
      "metadata": {
        "colab": {
          "background_save": true,
          "base_uri": "https://localhost:8080/"
        },
        "id": "0_8qN62fNWhA",
        "outputId": "f16cc8ba-bed3-4641-dd3e-9996dac10f40"
      },
      "outputs": [
        {
          "name": "stderr",
          "output_type": "stream",
          "text": [
            "Epoch 1/10 [Train]: 100%|██████████| 1307/1307 [01:44<00:00, 12.53it/s, Loss=0.551, MAE=0.492]\n",
            "Epoch 1/10 [Val]: 100%|██████████| 119/119 [00:04<00:00, 23.92it/s, Loss=1.04, MAE=0.876]\n"
          ]
        },
        {
          "name": "stdout",
          "output_type": "stream",
          "text": [
            "Epoch 1/10, Train Loss: 0.7351, Train MAE: 0.5870, Val Loss: 0.4483, Val MAE: 0.4296\n",
            "Checkpoint saved at best_model7.pt_epoch1.pt\n",
            "Best model updated at best_model7.pt\n"
          ]
        },
        {
          "name": "stderr",
          "output_type": "stream",
          "text": [
            "Epoch 2/10 [Train]: 100%|██████████| 1307/1307 [01:47<00:00, 12.10it/s, Loss=0.44, MAE=0.447]\n",
            "Epoch 2/10 [Val]: 100%|██████████| 119/119 [00:05<00:00, 23.58it/s, Loss=1.75, MAE=1.11]\n"
          ]
        },
        {
          "name": "stdout",
          "output_type": "stream",
          "text": [
            "Epoch 2/10, Train Loss: 0.4950, Train MAE: 0.4710, Val Loss: 0.4788, Val MAE: 0.4329\n",
            "Checkpoint saved at best_model7.pt_epoch2.pt\n"
          ]
        },
        {
          "name": "stderr",
          "output_type": "stream",
          "text": [
            "Epoch 3/10 [Train]: 100%|██████████| 1307/1307 [01:48<00:00, 11.99it/s, Loss=0.388, MAE=0.418]\n",
            "Epoch 3/10 [Val]: 100%|██████████| 119/119 [00:05<00:00, 20.97it/s, Loss=1.25, MAE=0.918]\n"
          ]
        },
        {
          "name": "stdout",
          "output_type": "stream",
          "text": [
            "Epoch 3/10, Train Loss: 0.4096, Train MAE: 0.4245, Val Loss: 0.4769, Val MAE: 0.4177\n",
            "Checkpoint saved at best_model7.pt_epoch3.pt\n"
          ]
        },
        {
          "name": "stderr",
          "output_type": "stream",
          "text": [
            "Epoch 4/10 [Train]: 100%|██████████| 1307/1307 [01:48<00:00, 12.00it/s, Loss=0.324, MAE=0.387]\n",
            "Epoch 4/10 [Val]: 100%|██████████| 119/119 [00:05<00:00, 23.66it/s, Loss=1.64, MAE=1.02]\n"
          ]
        },
        {
          "name": "stdout",
          "output_type": "stream",
          "text": [
            "Epoch 4/10, Train Loss: 0.3519, Train MAE: 0.3912, Val Loss: 0.5172, Val MAE: 0.4331\n",
            "Checkpoint saved at best_model7.pt_epoch4.pt\n",
            "Early stopping triggered after 4 epochs\n"
          ]
        },
        {
          "data": {
            "image/png": "[encoded data removed]",
            "text/plain": [
              "<Figure size 1000x500 with 1 Axes>"
            ]
          },
          "metadata": {},
          "output_type": "display_data"
        },
        {
          "data": {
            "image/png": "[encoded data removed]",
            "text/plain": [
              "<Figure size 1000x500 with 1 Axes>"
            ]
          },
          "metadata": {},
          "output_type": "display_data"
        },
        {
          "name": "stderr",
          "output_type": "stream",
          "text": [
            "Test Evaluation: 100%|██████████| 120/120 [00:05<00:00, 23.77it/s]\n"
          ]
        },
        {
          "name": "stdout",
          "output_type": "stream",
          "text": [
            "Test Loss: 0.4965, Test MAE: 0.4199\n"
          ]
        }
      ],
      "source": [
        "# if you intend to load model parameter instead, you can skip this cell\n",
        "device = torch.device('cuda' if torch.cuda.is_available() else 'cpu')\n",
        "model = DroughtLSTMHybrid(\n",
        "    dynamic_input_size=len(dynamic_features),\n",
        "    static_input_size=len(static_features),\n",
        "    hidden_size=64,\n",
        "    num_layers=2,\n",
        "    dropout=dropout\n",
        ").to(device)\n",
        "\n",
        "criterion = nn.MSELoss()\n",
        "optimizer = torch.optim.Adam(model.parameters(), lr=0.001, weight_decay=1e-5)\n",
        "\n",
        "# Initialize the learning rate scheduler\n",
        "scheduler = ReduceLROnPlateau(optimizer, 'min', patience=2, factor=0.5, verbose=True)\n",
        "\n",
        "# Train the model with the scheduler\n",
        "model, train_losses, val_losses, val_maes = train_model(\n",
        "    model, train_loader, val_loader, criterion, optimizer, num_epochs, save_path, device, patience, scheduler\n",
        ")\n",
        "\n",
        "# Evaluate on the test set\n",
        "model.eval()\n",
        "test_loss, test_mae, test_samples = 0.0, 0.0, 0\n",
        "test_predictions = []\n",
        "with torch.no_grad():\n",
        "    for X_dynamic, X_static, y_batch in tqdm(test_loader, desc=\"Test Evaluation\"):\n",
        "        X_dynamic, X_static, y_batch = X_dynamic.to(device), X_static.to(device), y_batch.to(device)\n",
        "        outputs = model(X_dynamic, X_static)\n",
        "        valid_mask = ~torch.isnan(y_batch)\n",
        "        if valid_mask.sum() > 0:\n",
        "            valid_outputs = outputs[valid_mask]\n",
        "            valid_targets = y_batch[valid_mask]\n",
        "            loss = criterion(valid_outputs, valid_targets)\n",
        "            test_loss += loss.item() * valid_mask.sum().item()\n",
        "            mae = torch.mean(torch.abs(valid_outputs - valid_targets))\n",
        "            test_mae += mae.item() * valid_mask.sum().item()\n",
        "            test_samples += valid_mask.sum().item()\n",
        "        test_predictions.extend(outputs.cpu().numpy())\n",
        "\n",
        "# Print the final test results\n",
        "if test_samples > 0:\n",
        "    test_loss /= test_samples\n",
        "    test_mae /= test_samples\n",
        "    print(f\"Test Loss: {test_loss:.4f}, Test MAE: {test_mae:.4f}\")\n",
        "else:\n",
        "    print(\"No valid test targets (all NaN), predictions collected.\")\n",
        "\n",
        "# Save the predictions\n",
        "np.save('test_predictions.npy', np.array(test_predictions))"
      ]
    },
    {
      "cell_type": "markdown",
      "metadata": {},
      "source": [
        "run this cell below if you want to load the model parameter"
      ]
    },
    {
      "cell_type": "code",
      "execution_count": null,
      "metadata": {},
      "outputs": [],
      "source": [
        "# Run this if you intend to just load the model parameter\n",
        "#Initialize the model\n",
        "device = torch.device('cuda' if torch.cuda.is_available() else 'cpu')\n",
        "model = DroughtLSTMHybrid(\n",
        "    dynamic_input_size=len(dynamic_features),\n",
        "    static_input_size=len(static_features),\n",
        "    hidden_size=64,\n",
        "    num_layers=2,\n",
        "    dropout=dropout\n",
        ").to(device)\n",
        "\n",
        "checkpoint_path = save_path\n",
        "model.load_state_dict(torch.load(checkpoint_path, map_location=device))\n",
        "model.to(device)\n",
        "model.eval()\n",
        "test_loss, test_mae, test_samples = 0.0, 0.0, 0\n",
        "test_predictions = []\n",
        "with torch.no_grad():\n",
        "    for X_dynamic, X_static, y_batch in tqdm(test_loader, desc=\"Test Evaluation\"):\n",
        "        X_dynamic, X_static, y_batch = X_dynamic.to(device), X_static.to(device), y_batch.to(device)\n",
        "        outputs = model(X_dynamic, X_static)\n",
        "        valid_mask = ~torch.isnan(y_batch)\n",
        "        if valid_mask.sum() > 0:\n",
        "            valid_outputs = outputs[valid_mask]\n",
        "            valid_targets = y_batch[valid_mask]\n",
        "            loss = criterion(valid_outputs, valid_targets)\n",
        "            test_loss += loss.item() * valid_mask.sum().item()\n",
        "            mae = torch.mean(torch.abs(valid_outputs - valid_targets))\n",
        "            test_mae += mae.item() * valid_mask.sum().item()\n",
        "            test_samples += valid_mask.sum().item()\n",
        "        test_predictions.extend(outputs.cpu().numpy())\n",
        "\n",
        "# Print the final test results\n",
        "if test_samples > 0:\n",
        "    test_loss /= test_samples\n",
        "    test_mae /= test_samples\n",
        "    print(f\"Test Loss: {test_loss:.4f}, Test MAE: {test_mae:.4f}\")\n",
        "else:\n",
        "    print(\"No valid test targets (all NaN), predictions collected.\")\n",
        "\n",
        "# Save the predictions\n",
        "np.save('test_predictions.npy', np.array(test_predictions))"
      ]
    }
  ],
  "metadata": {
    "accelerator": "GPU",
    "colab": {
      "gpuType": "T4",
      "machine_shape": "hm",
      "provenance": []
    },
    "kernelspec": {
      "display_name": "Python 3",
      "name": "python3"
    },
    "language_info": {
      "name": "python"
    }
  },
  "nbformat": 4,
  "nbformat_minor": 0
}
